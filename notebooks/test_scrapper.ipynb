{
 "cells": [
  {
   "cell_type": "markdown",
   "id": "ac81c071",
   "metadata": {},
   "source": [
    "Test of library Requests with boursorama "
   ]
  },
  {
   "cell_type": "code",
   "execution_count": 2,
   "id": "46740978",
   "metadata": {},
   "outputs": [
    {
     "data": {
      "text/html": [
       "<div>\n",
       "<style scoped>\n",
       "    .dataframe tbody tr th:only-of-type {\n",
       "        vertical-align: middle;\n",
       "    }\n",
       "\n",
       "    .dataframe tbody tr th {\n",
       "        vertical-align: top;\n",
       "    }\n",
       "\n",
       "    .dataframe thead th {\n",
       "        text-align: right;\n",
       "    }\n",
       "</style>\n",
       "<table border=\"1\" class=\"dataframe\">\n",
       "  <thead>\n",
       "    <tr style=\"text-align: right;\">\n",
       "      <th></th>\n",
       "      <th>Date</th>\n",
       "      <th>Dernier</th>\n",
       "      <th>Var. %</th>\n",
       "      <th>+ haut</th>\n",
       "      <th>+ bas</th>\n",
       "      <th>Ouverture</th>\n",
       "    </tr>\n",
       "  </thead>\n",
       "  <tbody>\n",
       "    <tr>\n",
       "      <th>0</th>\n",
       "      <td>27/05/2025</td>\n",
       "      <td>547</td>\n",
       "      <td>+0,76%</td>\n",
       "      <td>548</td>\n",
       "      <td>543</td>\n",
       "      <td>544</td>\n",
       "    </tr>\n",
       "    <tr>\n",
       "      <th>1</th>\n",
       "      <td>26/05/2025</td>\n",
       "      <td>543</td>\n",
       "      <td>+0,90%</td>\n",
       "      <td>544</td>\n",
       "      <td>533</td>\n",
       "      <td>543</td>\n",
       "    </tr>\n",
       "    <tr>\n",
       "      <th>2</th>\n",
       "      <td>23/05/2025</td>\n",
       "      <td>538</td>\n",
       "      <td>-1,03%</td>\n",
       "      <td>544</td>\n",
       "      <td>533</td>\n",
       "      <td>543</td>\n",
       "    </tr>\n",
       "    <tr>\n",
       "      <th>3</th>\n",
       "      <td>22/05/2025</td>\n",
       "      <td>544</td>\n",
       "      <td>-0,75%</td>\n",
       "      <td>545</td>\n",
       "      <td>540</td>\n",
       "      <td>543</td>\n",
       "    </tr>\n",
       "    <tr>\n",
       "      <th>4</th>\n",
       "      <td>21/05/2025</td>\n",
       "      <td>548</td>\n",
       "      <td>-0,83%</td>\n",
       "      <td>549</td>\n",
       "      <td>544</td>\n",
       "      <td>548</td>\n",
       "    </tr>\n",
       "    <tr>\n",
       "      <th>5</th>\n",
       "      <td>20/05/2025</td>\n",
       "      <td>553</td>\n",
       "      <td>+0,23%</td>\n",
       "      <td>554</td>\n",
       "      <td>551</td>\n",
       "      <td>552</td>\n",
       "    </tr>\n",
       "    <tr>\n",
       "      <th>6</th>\n",
       "      <td>19/05/2025</td>\n",
       "      <td>551</td>\n",
       "      <td>-0,56%</td>\n",
       "      <td>552</td>\n",
       "      <td>545</td>\n",
       "      <td>549</td>\n",
       "    </tr>\n",
       "    <tr>\n",
       "      <th>7</th>\n",
       "      <td>16/05/2025</td>\n",
       "      <td>554</td>\n",
       "      <td>+0,75%</td>\n",
       "      <td>554</td>\n",
       "      <td>551</td>\n",
       "      <td>551</td>\n",
       "    </tr>\n",
       "    <tr>\n",
       "      <th>8</th>\n",
       "      <td>15/05/2025</td>\n",
       "      <td>550</td>\n",
       "      <td>+0,38%</td>\n",
       "      <td>551</td>\n",
       "      <td>545</td>\n",
       "      <td>546</td>\n",
       "    </tr>\n",
       "    <tr>\n",
       "      <th>9</th>\n",
       "      <td>14/05/2025</td>\n",
       "      <td>548</td>\n",
       "      <td>-0,31%</td>\n",
       "      <td>550</td>\n",
       "      <td>545</td>\n",
       "      <td>549</td>\n",
       "    </tr>\n",
       "    <tr>\n",
       "      <th>10</th>\n",
       "      <td>13/05/2025</td>\n",
       "      <td>550</td>\n",
       "      <td>+0,67%</td>\n",
       "      <td>551</td>\n",
       "      <td>546</td>\n",
       "      <td>547</td>\n",
       "    </tr>\n",
       "    <tr>\n",
       "      <th>11</th>\n",
       "      <td>12/05/2025</td>\n",
       "      <td>546</td>\n",
       "      <td>+3,29%</td>\n",
       "      <td>550</td>\n",
       "      <td>542</td>\n",
       "      <td>543</td>\n",
       "    </tr>\n",
       "    <tr>\n",
       "      <th>12</th>\n",
       "      <td>09/05/2025</td>\n",
       "      <td>529</td>\n",
       "      <td>-0,08%</td>\n",
       "      <td>532</td>\n",
       "      <td>526</td>\n",
       "      <td>530</td>\n",
       "    </tr>\n",
       "    <tr>\n",
       "      <th>13</th>\n",
       "      <td>08/05/2025</td>\n",
       "      <td>529</td>\n",
       "      <td>+1,62%</td>\n",
       "      <td>530</td>\n",
       "      <td>525</td>\n",
       "      <td>528</td>\n",
       "    </tr>\n",
       "    <tr>\n",
       "      <th>14</th>\n",
       "      <td>07/05/2025</td>\n",
       "      <td>521</td>\n",
       "      <td>-0,48%</td>\n",
       "      <td>524</td>\n",
       "      <td>520</td>\n",
       "      <td>522</td>\n",
       "    </tr>\n",
       "    <tr>\n",
       "      <th>15</th>\n",
       "      <td>06/05/2025</td>\n",
       "      <td>523</td>\n",
       "      <td>-0,48%</td>\n",
       "      <td>525</td>\n",
       "      <td>519</td>\n",
       "      <td>524</td>\n",
       "    </tr>\n",
       "    <tr>\n",
       "      <th>16</th>\n",
       "      <td>05/05/2025</td>\n",
       "      <td>526</td>\n",
       "      <td>+0,09%</td>\n",
       "      <td>527</td>\n",
       "      <td>523</td>\n",
       "      <td>525</td>\n",
       "    </tr>\n",
       "    <tr>\n",
       "      <th>17</th>\n",
       "      <td>02/05/2025</td>\n",
       "      <td>525</td>\n",
       "      <td>+2,53%</td>\n",
       "      <td>527</td>\n",
       "      <td>520</td>\n",
       "      <td>522</td>\n",
       "    </tr>\n",
       "    <tr>\n",
       "      <th>18</th>\n",
       "      <td>30/04/2025</td>\n",
       "      <td>512</td>\n",
       "      <td>+0,33%</td>\n",
       "      <td>515</td>\n",
       "      <td>504</td>\n",
       "      <td>514</td>\n",
       "    </tr>\n",
       "    <tr>\n",
       "      <th>19</th>\n",
       "      <td>29/04/2025</td>\n",
       "      <td>511</td>\n",
       "      <td>+0,45%</td>\n",
       "      <td>513</td>\n",
       "      <td>508</td>\n",
       "      <td>511</td>\n",
       "    </tr>\n",
       "    <tr>\n",
       "      <th>20</th>\n",
       "      <td>28/04/2025</td>\n",
       "      <td>509</td>\n",
       "      <td>+0,22%</td>\n",
       "      <td>514</td>\n",
       "      <td>509</td>\n",
       "      <td>511</td>\n",
       "    </tr>\n",
       "    <tr>\n",
       "      <th>21</th>\n",
       "      <td>25/04/2025</td>\n",
       "      <td>507</td>\n",
       "      <td>0,00%</td>\n",
       "      <td>513</td>\n",
       "      <td>505</td>\n",
       "      <td>511</td>\n",
       "    </tr>\n",
       "  </tbody>\n",
       "</table>\n",
       "</div>"
      ],
      "text/plain": [
       "          Date  Dernier  Var. %  + haut  + bas  Ouverture\n",
       "0   27/05/2025      547  +0,76%     548    543        544\n",
       "1   26/05/2025      543  +0,90%     544    533        543\n",
       "2   23/05/2025      538  -1,03%     544    533        543\n",
       "3   22/05/2025      544  -0,75%     545    540        543\n",
       "4   21/05/2025      548  -0,83%     549    544        548\n",
       "5   20/05/2025      553  +0,23%     554    551        552\n",
       "6   19/05/2025      551  -0,56%     552    545        549\n",
       "7   16/05/2025      554  +0,75%     554    551        551\n",
       "8   15/05/2025      550  +0,38%     551    545        546\n",
       "9   14/05/2025      548  -0,31%     550    545        549\n",
       "10  13/05/2025      550  +0,67%     551    546        547\n",
       "11  12/05/2025      546  +3,29%     550    542        543\n",
       "12  09/05/2025      529  -0,08%     532    526        530\n",
       "13  08/05/2025      529  +1,62%     530    525        528\n",
       "14  07/05/2025      521  -0,48%     524    520        522\n",
       "15  06/05/2025      523  -0,48%     525    519        524\n",
       "16  05/05/2025      526  +0,09%     527    523        525\n",
       "17  02/05/2025      525  +2,53%     527    520        522\n",
       "18  30/04/2025      512  +0,33%     515    504        514\n",
       "19  29/04/2025      511  +0,45%     513    508        511\n",
       "20  28/04/2025      509  +0,22%     514    509        511\n",
       "21  25/04/2025      507   0,00%     513    505        511"
      ]
     },
     "execution_count": 2,
     "metadata": {},
     "output_type": "execute_result"
    }
   ],
   "source": [
    "import requests\n",
    "import pandas as pd\n",
    "url = f\"https://www.boursorama.com/bourse/trackers/cours/historique/1rTWPEA\"\n",
    "\n",
    "response = requests.get(url, timeout=5)  # 5 secondes max\n",
    "df_list = pd.read_html(response.text)\n",
    "pd.DataFrame(df_list[0])"
   ]
  },
  {
   "cell_type": "markdown",
   "id": "59264136",
   "metadata": {},
   "source": [
    "il faut voir un moyen de passer de l'ISIN au ticker\n",
    "Par défaut, on a un mois d'histo. Pour avoir plus, il faut:\n",
    "- choisir 3Y \n",
    "- appuyer sur rechercher \n",
    "- appuyer sur le numero de la page + 1\n",
    "\n",
    "Request nous permet de lire l'html mais pas faire du dynamique. Pour simuler du click bouton, il faut utiliser Selenium. \n"
   ]
  },
  {
   "cell_type": "code",
   "execution_count": 3,
   "id": "41b10adf",
   "metadata": {},
   "outputs": [],
   "source": [
    "from selenium import webdriver\n",
    "from selenium.webdriver.common.by import By\n",
    "from selenium.webdriver.support.ui import Select\n",
    "from selenium.webdriver.chrome.service import Service\n",
    "from selenium.webdriver.chrome.options import Options\n",
    "import time\n",
    "\n",
    "url=\"https://www.boursorama.com/bourse/trackers/cours/historique/1rTWPEA\"\n",
    "driver = webdriver.Chrome()\n",
    "\n",
    "# Ouvre la page\n",
    "driver.get(url) \n",
    "# Pause pour observer \n",
    "time.sleep(2)\n",
    "driver.quit()"
   ]
  },
  {
   "cell_type": "markdown",
   "id": "bc741aed",
   "metadata": {},
   "source": [
    "Problème identifié: pop up des cookies à gérer"
   ]
  },
  {
   "cell_type": "code",
   "execution_count": 5,
   "id": "e46bf300",
   "metadata": {},
   "outputs": [
    {
     "name": "stdout",
     "output_type": "stream",
     "text": [
      "Bouton 'Continuer sans accepter' cliqué.\n"
     ]
    }
   ],
   "source": [
    "from selenium import webdriver\n",
    "from selenium.webdriver.common.by import By\n",
    "from selenium.webdriver.support.ui import WebDriverWait, Select\n",
    "from selenium.webdriver.support import expected_conditions as EC\n",
    "import time\n",
    "\n",
    "url=\"https://www.boursorama.com/bourse/trackers/cours/historique/1rTWPEA\"\n",
    "driver = webdriver.Chrome()\n",
    "\n",
    "# Ouvre la page\n",
    "driver.get(url)  # Remplace par ton URL\n",
    "wait = WebDriverWait(driver, 10)\n",
    "\n",
    "try:\n",
    "    continue_button = wait.until(EC.element_to_be_clickable(\n",
    "        (By.CLASS_NAME, \"didomi-continue-without-agreeing\")\n",
    "    ))\n",
    "    continue_button.click()\n",
    "    print(\"Bouton 'Continuer sans accepter' cliqué.\")\n",
    "except Exception as e:\n",
    "    print(\"Bouton cookies pas trouvé ou déjà accepté :\", e)\n",
    "\n",
    "time.sleep(5)\n",
    "\n",
    "driver.quit()"
   ]
  },
  {
   "cell_type": "code",
   "execution_count": 6,
   "id": "7db15f94",
   "metadata": {},
   "outputs": [
    {
     "name": "stdout",
     "output_type": "stream",
     "text": [
      "Bouton 'Continuer sans accepter' cliqué.\n"
     ]
    },
    {
     "ename": "TimeoutException",
     "evalue": "Message: \n",
     "output_type": "error",
     "traceback": [
      "\u001b[1;31m---------------------------------------------------------------------------\u001b[0m",
      "\u001b[1;31mTimeoutException\u001b[0m                          Traceback (most recent call last)",
      "\u001b[1;32m<ipython-input-6-8f7835a60ef8>\u001b[0m in \u001b[0;36m<module>\u001b[1;34m\u001b[0m\n\u001b[0;32m     24\u001b[0m \u001b[1;33m\u001b[0m\u001b[0m\n\u001b[0;32m     25\u001b[0m \u001b[1;31m# Sélectionner \"3 ans\"\u001b[0m\u001b[1;33m\u001b[0m\u001b[1;33m\u001b[0m\u001b[1;33m\u001b[0m\u001b[0m\n\u001b[1;32m---> 26\u001b[1;33m \u001b[0mselect_element\u001b[0m \u001b[1;33m=\u001b[0m \u001b[0mwait\u001b[0m\u001b[1;33m.\u001b[0m\u001b[0muntil\u001b[0m\u001b[1;33m(\u001b[0m\u001b[0mEC\u001b[0m\u001b[1;33m.\u001b[0m\u001b[0mvisibility_of_element_located\u001b[0m\u001b[1;33m(\u001b[0m\u001b[1;33m(\u001b[0m\u001b[0mBy\u001b[0m\u001b[1;33m.\u001b[0m\u001b[0mID\u001b[0m\u001b[1;33m,\u001b[0m \u001b[1;34m\"historic_search_duration\"\u001b[0m\u001b[1;33m)\u001b[0m\u001b[1;33m)\u001b[0m\u001b[1;33m)\u001b[0m\u001b[1;33m\u001b[0m\u001b[1;33m\u001b[0m\u001b[0m\n\u001b[0m\u001b[0;32m     27\u001b[0m \u001b[0mselect\u001b[0m \u001b[1;33m=\u001b[0m \u001b[0mSelect\u001b[0m\u001b[1;33m(\u001b[0m\u001b[0mselect_element\u001b[0m\u001b[1;33m)\u001b[0m\u001b[1;33m\u001b[0m\u001b[1;33m\u001b[0m\u001b[0m\n\u001b[0;32m     28\u001b[0m \u001b[0mselect\u001b[0m\u001b[1;33m.\u001b[0m\u001b[0mselect_by_value\u001b[0m\u001b[1;33m(\u001b[0m\u001b[1;34m\"3Y\"\u001b[0m\u001b[1;33m)\u001b[0m\u001b[1;33m\u001b[0m\u001b[1;33m\u001b[0m\u001b[0m\n",
      "\u001b[1;32m~\\anaconda3\\lib\\site-packages\\selenium\\webdriver\\support\\wait.py\u001b[0m in \u001b[0;36muntil\u001b[1;34m(self, method, message)\u001b[0m\n\u001b[0;32m    103\u001b[0m                 \u001b[1;32mbreak\u001b[0m\u001b[1;33m\u001b[0m\u001b[1;33m\u001b[0m\u001b[0m\n\u001b[0;32m    104\u001b[0m             \u001b[0mtime\u001b[0m\u001b[1;33m.\u001b[0m\u001b[0msleep\u001b[0m\u001b[1;33m(\u001b[0m\u001b[0mself\u001b[0m\u001b[1;33m.\u001b[0m\u001b[0m_poll\u001b[0m\u001b[1;33m)\u001b[0m\u001b[1;33m\u001b[0m\u001b[1;33m\u001b[0m\u001b[0m\n\u001b[1;32m--> 105\u001b[1;33m         \u001b[1;32mraise\u001b[0m \u001b[0mTimeoutException\u001b[0m\u001b[1;33m(\u001b[0m\u001b[0mmessage\u001b[0m\u001b[1;33m,\u001b[0m \u001b[0mscreen\u001b[0m\u001b[1;33m,\u001b[0m \u001b[0mstacktrace\u001b[0m\u001b[1;33m)\u001b[0m\u001b[1;33m\u001b[0m\u001b[1;33m\u001b[0m\u001b[0m\n\u001b[0m\u001b[0;32m    106\u001b[0m \u001b[1;33m\u001b[0m\u001b[0m\n\u001b[0;32m    107\u001b[0m     \u001b[1;32mdef\u001b[0m \u001b[0muntil_not\u001b[0m\u001b[1;33m(\u001b[0m\u001b[0mself\u001b[0m\u001b[1;33m,\u001b[0m \u001b[0mmethod\u001b[0m\u001b[1;33m:\u001b[0m \u001b[0mCallable\u001b[0m\u001b[1;33m[\u001b[0m\u001b[1;33m[\u001b[0m\u001b[0mD\u001b[0m\u001b[1;33m]\u001b[0m\u001b[1;33m,\u001b[0m \u001b[0mT\u001b[0m\u001b[1;33m]\u001b[0m\u001b[1;33m,\u001b[0m \u001b[0mmessage\u001b[0m\u001b[1;33m:\u001b[0m \u001b[0mstr\u001b[0m \u001b[1;33m=\u001b[0m \u001b[1;34m\"\"\u001b[0m\u001b[1;33m)\u001b[0m \u001b[1;33m->\u001b[0m \u001b[0mUnion\u001b[0m\u001b[1;33m[\u001b[0m\u001b[0mT\u001b[0m\u001b[1;33m,\u001b[0m \u001b[0mLiteral\u001b[0m\u001b[1;33m[\u001b[0m\u001b[1;32mTrue\u001b[0m\u001b[1;33m]\u001b[0m\u001b[1;33m]\u001b[0m\u001b[1;33m:\u001b[0m\u001b[1;33m\u001b[0m\u001b[1;33m\u001b[0m\u001b[0m\n",
      "\u001b[1;31mTimeoutException\u001b[0m: Message: \n"
     ]
    }
   ],
   "source": [
    "from selenium import webdriver\n",
    "from selenium.webdriver.common.by import By\n",
    "from selenium.webdriver.support.ui import WebDriverWait, Select\n",
    "from selenium.webdriver.support import expected_conditions as EC\n",
    "import time\n",
    "\n",
    "url=\"https://www.boursorama.com/bourse/trackers/cours/historique/1rTWPEA\"\n",
    "driver = webdriver.Chrome()\n",
    "\n",
    "# Ouvre la page\n",
    "driver.get(url)  # Remplace par ton URL\n",
    "wait = WebDriverWait(driver, 10)\n",
    "\n",
    "try:\n",
    "    continue_button = wait.until(EC.element_to_be_clickable(\n",
    "        (By.CLASS_NAME, \"didomi-continue-without-agreeing\")\n",
    "    ))\n",
    "    continue_button.click()\n",
    "    print(\"Bouton 'Continuer sans accepter' cliqué.\")\n",
    "except Exception as e:\n",
    "    print(\"Bouton cookies pas trouvé ou déjà accepté :\", e)\n",
    "\n",
    "time.sleep(5)\n",
    "\n",
    "# Sélectionner \"3 ans\"\n",
    "select_element = wait.until(EC.visibility_of_element_located((By.ID, \"historic_search_duration\")))\n",
    "select = Select(select_element)\n",
    "select.select_by_value(\"3Y\")\n",
    "\n",
    "time.sleep(5)\n",
    "\n",
    "driver.quit()"
   ]
  },
  {
   "cell_type": "markdown",
   "id": "33701baa",
   "metadata": {},
   "source": [
    "Je sens que cette piste va me prendre beaucoup de temps, donc je vais chercher une API.\n",
    "Recours à l'API https://marketstack.com/dashboard "
   ]
  },
  {
   "cell_type": "code",
   "execution_count": 3,
   "id": "b04ad6ee",
   "metadata": {},
   "outputs": [],
   "source": [
    "from dotenv import load_dotenv\n",
    "import os\n",
    "load_dotenv()\n",
    "API_KEY=os.getenv(\"API_key_market_stack\")"
   ]
  },
  {
   "cell_type": "code",
   "execution_count": 6,
   "id": "8b6f970a",
   "metadata": {},
   "outputs": [
    {
     "name": "stdout",
     "output_type": "stream",
     "text": [
      "{'pagination': {'limit': 100, 'offset': 0, 'count': 5, 'total': 5}, 'data': [{'open': 198.3, 'high': 200.74, 'low': 197.43, 'close': 200.21, 'volume': 56229000.0, 'adj_high': 200.74, 'adj_low': 197.43, 'adj_close': 200.21, 'adj_open': 198.3, 'adj_volume': 56288475.0, 'split_factor': 1.0, 'dividend': 0.0, 'symbol': 'AAPL', 'exchange': 'XNAS', 'date': '2025-05-27T00:00:00+0000'}, {'open': 193.665, 'high': 197.7, 'low': 193.46, 'close': 195.27, 'volume': 78432918.0, 'adj_high': 197.7, 'adj_low': 193.46, 'adj_close': 195.27, 'adj_open': 193.665, 'adj_volume': 78432918.0, 'split_factor': 1.0, 'dividend': 0.0, 'symbol': 'AAPL', 'exchange': 'XNAS', 'date': '2025-05-23T00:00:00+0000'}, {'open': 200.71, 'high': 202.75, 'low': 199.7, 'close': 201.36, 'volume': 46633900.0, 'adj_high': 202.75, 'adj_low': 199.7, 'adj_close': 201.36, 'adj_open': 200.71, 'adj_volume': 46742407.0, 'split_factor': 1.0, 'dividend': 0.0, 'symbol': 'AAPL', 'exchange': 'XNAS', 'date': '2025-05-22T00:00:00+0000'}, {'open': 205.17, 'high': 207.04, 'low': 200.71, 'close': 202.09, 'volume': 59134800.0, 'adj_high': 207.04, 'adj_low': 200.71, 'adj_close': 202.09, 'adj_open': 205.17, 'adj_volume': 59211774.0, 'split_factor': 1.0, 'dividend': 0.0, 'symbol': 'AAPL', 'exchange': 'XNAS', 'date': '2025-05-21T00:00:00+0000'}, {'open': 207.67, 'high': 208.47, 'low': 205.03, 'close': 206.86, 'volume': 42443700.0, 'adj_high': 208.47, 'adj_low': 205.03, 'adj_close': 206.86, 'adj_open': 207.67, 'adj_volume': 42496635.0, 'split_factor': 1.0, 'dividend': 0.0, 'symbol': 'AAPL', 'exchange': 'XNAS', 'date': '2025-05-20T00:00:00+0000'}]}\n"
     ]
    }
   ],
   "source": [
    "import requests\n",
    "\n",
    "url = f\"https://api.marketstack.com/v1/eod?access_key={API_KEY}\"\n",
    "\n",
    "querystring = {\"symbols\":\"AAPL\",\"date_from\":\"2025-05-20\" ,\"date_to\":\"2025-05-27\"}\n",
    "\n",
    "response = requests.get(url, params=querystring)\n",
    "\n",
    "print(response.json())"
   ]
  },
  {
   "cell_type": "code",
   "execution_count": 8,
   "id": "968be123",
   "metadata": {},
   "outputs": [],
   "source": [
    "json_response=response.json()"
   ]
  },
  {
   "cell_type": "code",
   "execution_count": 12,
   "id": "12c0b257",
   "metadata": {},
   "outputs": [
    {
     "data": {
      "text/html": [
       "<div>\n",
       "<style scoped>\n",
       "    .dataframe tbody tr th:only-of-type {\n",
       "        vertical-align: middle;\n",
       "    }\n",
       "\n",
       "    .dataframe tbody tr th {\n",
       "        vertical-align: top;\n",
       "    }\n",
       "\n",
       "    .dataframe thead th {\n",
       "        text-align: right;\n",
       "    }\n",
       "</style>\n",
       "<table border=\"1\" class=\"dataframe\">\n",
       "  <thead>\n",
       "    <tr style=\"text-align: right;\">\n",
       "      <th></th>\n",
       "      <th>open</th>\n",
       "      <th>high</th>\n",
       "      <th>low</th>\n",
       "      <th>close</th>\n",
       "      <th>volume</th>\n",
       "      <th>adj_high</th>\n",
       "      <th>adj_low</th>\n",
       "      <th>adj_close</th>\n",
       "      <th>adj_open</th>\n",
       "      <th>adj_volume</th>\n",
       "      <th>split_factor</th>\n",
       "      <th>dividend</th>\n",
       "      <th>symbol</th>\n",
       "      <th>exchange</th>\n",
       "      <th>date</th>\n",
       "    </tr>\n",
       "  </thead>\n",
       "  <tbody>\n",
       "    <tr>\n",
       "      <th>0</th>\n",
       "      <td>198.300</td>\n",
       "      <td>200.74</td>\n",
       "      <td>197.43</td>\n",
       "      <td>200.21</td>\n",
       "      <td>56229000.0</td>\n",
       "      <td>200.74</td>\n",
       "      <td>197.43</td>\n",
       "      <td>200.21</td>\n",
       "      <td>198.300</td>\n",
       "      <td>56288475.0</td>\n",
       "      <td>1.0</td>\n",
       "      <td>0.0</td>\n",
       "      <td>AAPL</td>\n",
       "      <td>XNAS</td>\n",
       "      <td>2025-05-27T00:00:00+0000</td>\n",
       "    </tr>\n",
       "    <tr>\n",
       "      <th>1</th>\n",
       "      <td>193.665</td>\n",
       "      <td>197.70</td>\n",
       "      <td>193.46</td>\n",
       "      <td>195.27</td>\n",
       "      <td>78432918.0</td>\n",
       "      <td>197.70</td>\n",
       "      <td>193.46</td>\n",
       "      <td>195.27</td>\n",
       "      <td>193.665</td>\n",
       "      <td>78432918.0</td>\n",
       "      <td>1.0</td>\n",
       "      <td>0.0</td>\n",
       "      <td>AAPL</td>\n",
       "      <td>XNAS</td>\n",
       "      <td>2025-05-23T00:00:00+0000</td>\n",
       "    </tr>\n",
       "    <tr>\n",
       "      <th>2</th>\n",
       "      <td>200.710</td>\n",
       "      <td>202.75</td>\n",
       "      <td>199.70</td>\n",
       "      <td>201.36</td>\n",
       "      <td>46633900.0</td>\n",
       "      <td>202.75</td>\n",
       "      <td>199.70</td>\n",
       "      <td>201.36</td>\n",
       "      <td>200.710</td>\n",
       "      <td>46742407.0</td>\n",
       "      <td>1.0</td>\n",
       "      <td>0.0</td>\n",
       "      <td>AAPL</td>\n",
       "      <td>XNAS</td>\n",
       "      <td>2025-05-22T00:00:00+0000</td>\n",
       "    </tr>\n",
       "    <tr>\n",
       "      <th>3</th>\n",
       "      <td>205.170</td>\n",
       "      <td>207.04</td>\n",
       "      <td>200.71</td>\n",
       "      <td>202.09</td>\n",
       "      <td>59134800.0</td>\n",
       "      <td>207.04</td>\n",
       "      <td>200.71</td>\n",
       "      <td>202.09</td>\n",
       "      <td>205.170</td>\n",
       "      <td>59211774.0</td>\n",
       "      <td>1.0</td>\n",
       "      <td>0.0</td>\n",
       "      <td>AAPL</td>\n",
       "      <td>XNAS</td>\n",
       "      <td>2025-05-21T00:00:00+0000</td>\n",
       "    </tr>\n",
       "    <tr>\n",
       "      <th>4</th>\n",
       "      <td>207.670</td>\n",
       "      <td>208.47</td>\n",
       "      <td>205.03</td>\n",
       "      <td>206.86</td>\n",
       "      <td>42443700.0</td>\n",
       "      <td>208.47</td>\n",
       "      <td>205.03</td>\n",
       "      <td>206.86</td>\n",
       "      <td>207.670</td>\n",
       "      <td>42496635.0</td>\n",
       "      <td>1.0</td>\n",
       "      <td>0.0</td>\n",
       "      <td>AAPL</td>\n",
       "      <td>XNAS</td>\n",
       "      <td>2025-05-20T00:00:00+0000</td>\n",
       "    </tr>\n",
       "  </tbody>\n",
       "</table>\n",
       "</div>"
      ],
      "text/plain": [
       "      open    high     low   close      volume  adj_high  adj_low  adj_close  \\\n",
       "0  198.300  200.74  197.43  200.21  56229000.0    200.74   197.43     200.21   \n",
       "1  193.665  197.70  193.46  195.27  78432918.0    197.70   193.46     195.27   \n",
       "2  200.710  202.75  199.70  201.36  46633900.0    202.75   199.70     201.36   \n",
       "3  205.170  207.04  200.71  202.09  59134800.0    207.04   200.71     202.09   \n",
       "4  207.670  208.47  205.03  206.86  42443700.0    208.47   205.03     206.86   \n",
       "\n",
       "   adj_open  adj_volume  split_factor  dividend symbol exchange  \\\n",
       "0   198.300  56288475.0           1.0       0.0   AAPL     XNAS   \n",
       "1   193.665  78432918.0           1.0       0.0   AAPL     XNAS   \n",
       "2   200.710  46742407.0           1.0       0.0   AAPL     XNAS   \n",
       "3   205.170  59211774.0           1.0       0.0   AAPL     XNAS   \n",
       "4   207.670  42496635.0           1.0       0.0   AAPL     XNAS   \n",
       "\n",
       "                       date  \n",
       "0  2025-05-27T00:00:00+0000  \n",
       "1  2025-05-23T00:00:00+0000  \n",
       "2  2025-05-22T00:00:00+0000  \n",
       "3  2025-05-21T00:00:00+0000  \n",
       "4  2025-05-20T00:00:00+0000  "
      ]
     },
     "execution_count": 12,
     "metadata": {},
     "output_type": "execute_result"
    }
   ],
   "source": [
    "import pandas as pd\n",
    "pd.DataFrame(json_response['data'])"
   ]
  },
  {
   "cell_type": "code",
   "execution_count": 16,
   "id": "5a0ea1d1",
   "metadata": {},
   "outputs": [
    {
     "name": "stdout",
     "output_type": "stream",
     "text": [
      "Collecting datautil\n",
      "  Downloading datautil-0.4.tar.gz (29 kB)\n"
     ]
    },
    {
     "name": "stderr",
     "output_type": "stream",
     "text": [
      "    ERROR: Command errored out with exit status 1:\n",
      "     command: 'C:\\Users\\Oumaima\\anaconda3\\python.exe' -c 'import sys, setuptools, tokenize; sys.argv[0] = '\"'\"'C:\\\\Users\\\\Oumaima\\\\AppData\\\\Local\\\\Temp\\\\pip-install-kfztjzld\\\\datautil_413361349a924dbc98b8c276f9e9a2a3\\\\setup.py'\"'\"'; __file__='\"'\"'C:\\\\Users\\\\Oumaima\\\\AppData\\\\Local\\\\Temp\\\\pip-install-kfztjzld\\\\datautil_413361349a924dbc98b8c276f9e9a2a3\\\\setup.py'\"'\"';f=getattr(tokenize, '\"'\"'open'\"'\"', open)(__file__);code=f.read().replace('\"'\"'\\r\\n'\"'\"', '\"'\"'\\n'\"'\"');f.close();exec(compile(code, __file__, '\"'\"'exec'\"'\"'))' egg_info --egg-base 'C:\\Users\\Oumaima\\AppData\\Local\\Temp\\pip-pip-egg-info-m11kuczg'\n",
      "         cwd: C:\\Users\\Oumaima\\AppData\\Local\\Temp\\pip-install-kfztjzld\\datautil_413361349a924dbc98b8c276f9e9a2a3\\\n",
      "    Complete output (7 lines):\n",
      "    Traceback (most recent call last):\n",
      "      File \"<string>\", line 1, in <module>\n",
      "      File \"C:\\Users\\Oumaima\\AppData\\Local\\Temp\\pip-install-kfztjzld\\datautil_413361349a924dbc98b8c276f9e9a2a3\\setup.py\", line 5, in <module>\n",
      "        from datautil import __version__, __doc__ as __long_description__\n",
      "      File \".\\datautil\\__init__.py\", line 56, in <module>\n",
      "        import tabular\n",
      "    ModuleNotFoundError: No module named 'tabular'\n",
      "    ----------------------------------------\n",
      "WARNING: Discarding https://files.pythonhosted.org/packages/60/88/fb5df361095be3f851dc9f4b6964c4e540f8b64e49b547b453f1661d3bf7/datautil-0.4.tar.gz#sha256=89842cfac9bee276117b447ad1874bb0ac2a5cbf9ed8cf4b50732cadc4d418ae (from https://pypi.org/simple/datautil/). Command errored out with exit status 1: python setup.py egg_info Check the logs for full command output.\n",
      "ERROR: Could not find a version that satisfies the requirement datautil\n",
      "ERROR: No matching distribution found for datautil\n"
     ]
    }
   ],
   "source": [
    "!pip install datautil"
   ]
  },
  {
   "cell_type": "code",
   "execution_count": 45,
   "id": "3d69dcf1",
   "metadata": {},
   "outputs": [],
   "source": [
    "import requests\n",
    "import pandas as pd\n",
    "\n",
    "def get_hist_data(start_date_str: str, end_date_str: str, API_KEY: str, symbol : str) -> pd.DataFrame:\n",
    "    \n",
    "    \"\"\"\n",
    "    Fetches historical end-of-day stock data from the MarketStack API.\n",
    "\n",
    "    Parameters:\n",
    "    - start_date_str: str, the start date in 'YYYY-MM-DD' format.\n",
    "    - end_date_str: str, the end date in 'YYYY-MM-DD' format.\n",
    "    - API_KEY: str, your MarketStack API key.\n",
    "    - symbol: str, the symbol of the instrument (https://marketstack.com/search to find the exact ticker)\n",
    "\n",
    "    Returns:\n",
    "    - pd.DataFrame: DataFrame containing the historical data.\n",
    "    \"\"\"\n",
    "    \n",
    "    url = f\"https://api.marketstack.com/v1/eod?access_key={API_KEY}\"\n",
    "    # API parameters (max 1000 rows allowed per request)\n",
    "    querystring = {\n",
    "\n",
    "        \"symbols\": symbol,\n",
    "        \"date_from\": end_date_str,\n",
    "        \"date_to\": start_date_str,\n",
    "        \"limit\": 1000\n",
    "    }\n",
    "\n",
    "    try:\n",
    "        # Send GET request to the API\n",
    "        print(f\"Sending request to {url} with params: {querystring}\")\n",
    "        response = requests.get(url, params=querystring)\n",
    "        response.raise_for_status()  # Raises an error for HTTP codes 4xx or 5xx\n",
    "\n",
    "        json_response = response.json()\n",
    "\n",
    "        # Ensure 'data' key exists in response\n",
    "        if 'data' not in json_response:\n",
    "            raise ValueError(\"Missing 'data' key in API response\")\n",
    "\n",
    "        # Convert to DataFrame\n",
    "        return pd.DataFrame(json_response['data'])\n",
    "\n",
    "    except requests.RequestException as e:\n",
    "        print(f\"HTTP request failed: {e}\")\n",
    "    except ValueError as ve:\n",
    "        print(f\"Value error: {ve}\")\n",
    "    except Exception as ex:\n",
    "        print(f\"Unexpected error: {ex}\")\n",
    "\n",
    "    # Return empty DataFrame in case of failure\n",
    "    return pd.DataFrame()\n",
    "\n"
   ]
  },
  {
   "cell_type": "code",
   "execution_count": 46,
   "id": "7034d157",
   "metadata": {},
   "outputs": [],
   "source": [
    "from datetime import date\n",
    "from dateutil.relativedelta import relativedelta\n",
    "start=date.today()\n",
    "three_years_ago=start - relativedelta(years=3)\n",
    "start_date_str=start.strftime(\"%Y-%m-%d\")\n",
    "end_date_str=three_years_ago.strftime(\"%Y-%m-%d\")\n",
    " df=get_hist_data(start_date_str=start_date_str,end_date_str=end_date_str,API_KEY=API_KEY,symbol=\"WPEA.XPAR\")"
   ]
  },
  {
   "cell_type": "code",
   "execution_count": null,
   "id": "942caa4d",
   "metadata": {},
   "outputs": [],
   "source": [
    "from dateutil.relativedelta import relativedelta\n"
   ]
  },
  {
   "cell_type": "markdown",
   "id": "3c809bab",
   "metadata": {},
   "source": [
    "dans https://www.justetf.com/en/etf-profile.html?isin=IE0002XZSHO1\n",
    "\n",
    "ISIN IE0002XZSHO1   |  WKN A3E1JV   |  Ticker WPEA\n",
    "\n",
    "https://marketstack.com/search to find the exact ticker\n",
    "boursorama 1rTWPEA\n",
    "\n",
    "Le code ISIN IE0002XZSHO1 correspond à l’ETF iShares MSCI World Swap PEA UCITS ETF EUR (Acc), dont le ticker est WPEA. Cet ETF est coté sur Euronext Paris .\n",
    "\n",
    "Nom complet : iShares MSCI World Swap PEA UCITS ETF EUR (Acc)\n",
    "\n",
    "Ticker : WPEA\n",
    "\n",
    "ISIN : IE0002XZSHO1\n",
    "\n",
    "WKN : A3E1JV\n",
    "\n",
    "Cet ETF vise à répliquer la performance de l’indice MSCI World Net Total Return EUR, qui couvre les actions de grande et moyenne capitalisation des marchés développés. Il est conçu pour être éligible au Plan d’Épargne en Actions (PEA), ce qui en fait une option intéressante pour les investisseurs français souhaitant une exposition mondiale tout en bénéficiant des avantages fiscaux du PEA.\n",
    "BlackRock"
   ]
  },
  {
   "cell_type": "code",
   "execution_count": 55,
   "id": "b4ab4d85",
   "metadata": {},
   "outputs": [
    {
     "data": {
      "text/plain": [
       "(256, 15)"
      ]
     },
     "execution_count": 55,
     "metadata": {},
     "output_type": "execute_result"
    }
   ],
   "source": [
    "df.shape"
   ]
  },
  {
   "cell_type": "code",
   "execution_count": 27,
   "id": "1c82c943",
   "metadata": {},
   "outputs": [
    {
     "data": {
      "text/plain": [
       "('2025-05-28', '2022-05-28')"
      ]
     },
     "execution_count": 27,
     "metadata": {},
     "output_type": "execute_result"
    }
   ],
   "source": [
    "start_date_str,end_date_str"
   ]
  },
  {
   "cell_type": "code",
   "execution_count": 56,
   "id": "8c46da5b",
   "metadata": {},
   "outputs": [
    {
     "data": {
      "text/plain": [
       "count                                 256\n",
       "mean     2024-11-24 04:46:52.500000+00:00\n",
       "min             2024-05-28 00:00:00+00:00\n",
       "25%             2024-08-25 06:00:00+00:00\n",
       "50%             2024-11-21 12:00:00+00:00\n",
       "75%             2025-02-24 06:00:00+00:00\n",
       "max             2025-05-28 00:00:00+00:00\n",
       "Name: date, dtype: object"
      ]
     },
     "execution_count": 56,
     "metadata": {},
     "output_type": "execute_result"
    }
   ],
   "source": [
    "pd.to_datetime(df.date).describe()"
   ]
  },
  {
   "cell_type": "markdown",
   "id": "2757ab45",
   "metadata": {},
   "source": [
    "Que un an d'histo ...."
   ]
  },
  {
   "cell_type": "code",
   "execution_count": 58,
   "id": "c112dc2d",
   "metadata": {},
   "outputs": [],
   "source": [
    "df_copy=df.copy()"
   ]
  },
  {
   "cell_type": "code",
   "execution_count": 59,
   "id": "d5513555",
   "metadata": {},
   "outputs": [],
   "source": [
    "df.date=pd.to_datetime(df.date)"
   ]
  },
  {
   "cell_type": "code",
   "execution_count": 61,
   "id": "2bd79a4f",
   "metadata": {},
   "outputs": [
    {
     "data": {
      "text/plain": [
       "0.3018661293819078"
      ]
     },
     "execution_count": 61,
     "metadata": {},
     "output_type": "execute_result"
    }
   ],
   "source": [
    "df['close'].std()"
   ]
  },
  {
   "cell_type": "code",
   "execution_count": 62,
   "id": "a22d3018",
   "metadata": {},
   "outputs": [
    {
     "data": {
      "text/plain": [
       "0           NaN\n",
       "1           NaN\n",
       "2           NaN\n",
       "3           NaN\n",
       "4      0.038552\n",
       "         ...   \n",
       "251    0.044736\n",
       "252    0.042296\n",
       "253    0.030442\n",
       "254    0.016603\n",
       "255    0.023141\n",
       "Name: close, Length: 256, dtype: float64"
      ]
     },
     "execution_count": 62,
     "metadata": {},
     "output_type": "execute_result"
    }
   ],
   "source": [
    "df['close'].rolling(5).std()"
   ]
  },
  {
   "cell_type": "code",
   "execution_count": 83,
   "id": "86714685",
   "metadata": {},
   "outputs": [
    {
     "data": {
      "text/plain": [
       "0.3015711336248684"
      ]
     },
     "execution_count": 83,
     "metadata": {},
     "output_type": "execute_result"
    }
   ],
   "source": [
    "one_years_ago=start - relativedelta(years=1)\n",
    "cond_inf=(df['date'].dt.date>one_years_ago)\n",
    "cond_sup=(df['date'].dt.date<date.today())\n",
    "\n",
    "df.loc[cond_sup & cond_inf,'close'].std()"
   ]
  },
  {
   "cell_type": "code",
   "execution_count": 104,
   "id": "ffd7af9e",
   "metadata": {},
   "outputs": [
    {
     "name": "stderr",
     "output_type": "stream",
     "text": [
      "C:\\Users\\Oumaima\\anaconda3\\lib\\site-packages\\pandas\\core\\arraylike.py:396: RuntimeWarning: invalid value encountered in log\n",
      "  result = getattr(ufunc, method)(*inputs, **kwargs)\n"
     ]
    },
    {
     "data": {
      "text/plain": [
       "(255,)"
      ]
     },
     "execution_count": 104,
     "metadata": {},
     "output_type": "execute_result"
    }
   ],
   "source": [
    "returns = sub_df['close'].pct_change()\n",
    "log_returns = np.log(returns / returns.shift(1))\n",
    "log_returns.shape[0]"
   ]
  },
  {
   "cell_type": "code",
   "execution_count": 105,
   "id": "5f39e1fe",
   "metadata": {},
   "outputs": [],
   "source": [
    "log_returns = np.log(sub_df['close'] / sub_df['close'].shift(1))\n",
    "mean_daily_return = log_returns.mean()\n",
    "expected_annual_return = mean_daily_return * log_returns.shape[0]"
   ]
  },
  {
   "cell_type": "code",
   "execution_count": 106,
   "id": "7326ae0c",
   "metadata": {},
   "outputs": [
    {
     "data": {
      "text/plain": [
       "(-0.08527937620019578, -0.00033442892627527757)"
      ]
     },
     "execution_count": 106,
     "metadata": {},
     "output_type": "execute_result"
    }
   ],
   "source": [
    "expected_annual_return, mean_daily_return"
   ]
  },
  {
   "cell_type": "code",
   "execution_count": 110,
   "id": "fee2bf74",
   "metadata": {},
   "outputs": [],
   "source": [
    "import numpy as np\n",
    "def get_stats(indicator, min_date, max_date):\n",
    "    cond_inf=(df['date'].dt.date>min_date)\n",
    "    cond_sup=(df['date'].dt.date<max_date)\n",
    "    sub_df=df.loc[cond_inf & cond_sup,:]\n",
    "    if indicator=='vol':\n",
    "        return sub_df.loc[:,'close'].std()\n",
    "    elif indicator=='performance':\n",
    "        return (sub_df['close'].iloc[-1] / sub_df['close'].iloc[0]) - 1\n",
    "    elif indicator=='rendement espéré':\n",
    "        log_returns = np.log(sub_df['close'] / sub_df['close'].shift(1))\n",
    "        mean_daily_return = log_returns.mean()\n",
    "        expected_annual_return = mean_daily_return * log_returns.shape[0]\n",
    "\n",
    "        return expected_annual_return\n",
    "    elif indicator=='max dropdown':\n",
    "        # Série du pic cumulé jusqu'à présent\n",
    "        running_max = df['close'].cummax()\n",
    "        # Drawdown actuel\n",
    "        drawdown = (df['close'] - running_max) / running_max\n",
    "        # Max drawdown (le plus bas drawdown, valeur négative)\n",
    "        max_drawdown = drawdown.min()\n",
    "        return max_drawdown\n",
    "    else:\n",
    "        print('Unknown indicator')\n",
    "        return None\n",
    "        "
   ]
  },
  {
   "cell_type": "code",
   "execution_count": 115,
   "id": "269e7ee4",
   "metadata": {},
   "outputs": [],
   "source": [
    "import numpy as np\n",
    "import pandas as pd\n",
    "from datetime import date\n",
    "\n",
    "def get_stats(indicator: str, min_date: date, max_date: date) -> float:\n",
    "    \"\"\"\n",
    "    Calcule différents indicateurs financiers sur une période donnée à partir du DataFrame global `df`.\n",
    "\n",
    "    Paramètres :\n",
    "    - indicator : str, le nom de l'indicateur à calculer ('vol', 'performance', 'rendement espéré', 'max dropdown')\n",
    "    - min_date : date de début de la période (exclue)\n",
    "    - max_date : date de fin de la période (exclue)\n",
    "\n",
    "    Retour :\n",
    "    - float : la valeur de l'indicateur, ou None si l'indicateur est inconnu\n",
    "    \"\"\"\n",
    "    \n",
    "    # Filtrer les données entre min_date et max_date\n",
    "    cond_inf = (df['date'].dt.date > min_date)\n",
    "    cond_sup = (df['date'].dt.date < max_date)\n",
    "    sub_df = df.loc[cond_inf & cond_sup, :]\n",
    "\n",
    "    if indicator == 'vol':\n",
    "        # Volatilité = écart-type des prix de clôture\n",
    "        return sub_df['close'].std()\n",
    "\n",
    "    elif indicator == 'performance':\n",
    "        # Performance = variation relative entre le 1er et le dernier prix\n",
    "        return (sub_df['close'].iloc[-1] / sub_df['close'].iloc[0]) - 1\n",
    "\n",
    "    elif indicator == 'rendement espéré':\n",
    "        # Calcul des rendements log\n",
    "        log_returns = np.log(sub_df['close'] / sub_df['close'].shift(1))\n",
    "        # Moyenne des rendements journaliers (supposés réguliers ici)\n",
    "        mean_daily_return = log_returns.mean()\n",
    "        # Annualisation : ici on multiplie par le nombre d'observations (≈ nombre de jours)\n",
    "        expected_annual_return = mean_daily_return * log_returns.shape[0]\n",
    "        return expected_annual_return\n",
    "\n",
    "    elif indicator == 'max dropdown':\n",
    "        # Série du maximum cumulé des prix\n",
    "        running_max = sub_df['close'].cummax()\n",
    "        # Drawdown = écart relatif entre le prix courant et le max précédent\n",
    "        drawdown = (sub_df['close'] - running_max) / running_max\n",
    "        # Max drawdown = drawdown le plus bas (plus forte perte)\n",
    "        max_drawdown = drawdown.min()\n",
    "        return max_drawdown\n",
    "\n",
    "    else:\n",
    "        print('Unknown indicator')\n",
    "        return None\n"
   ]
  },
  {
   "cell_type": "code",
   "execution_count": 120,
   "id": "a39fe665",
   "metadata": {},
   "outputs": [
    {
     "name": "stdout",
     "output_type": "stream",
     "text": [
      "Période                 1Y        3M        3Y        6M       YTD\n",
      "Indicateur                                                        \n",
      "max dropdown     -0.184254 -0.154523 -0.184254 -0.154523 -0.154523\n",
      "performance      -0.080380  0.060614 -0.076982  0.052302  0.056321\n",
      "rendement espéré -0.084126  0.059862 -0.080422  0.051401  0.055340\n",
      "vol               0.302145  0.249430  0.302437  0.328470  0.344292\n"
     ]
    }
   ],
   "source": [
    "from datetime import date\n",
    "from dateutil.relativedelta import relativedelta\n",
    "import pandas as pd\n",
    "\n",
    "# Horizons à évaluer\n",
    "periods = {\n",
    "    'YTD': date(date.today().year, 1, 1),\n",
    "    '3M': date.today() - relativedelta(months=3),\n",
    "    '6M': date.today() - relativedelta(months=6),\n",
    "    '1Y': date.today() - relativedelta(years=1),\n",
    "    '3Y': date.today() - relativedelta(years=3),\n",
    "}\n",
    "\n",
    "# Liste des indicateurs\n",
    "indicators = ['vol', 'performance', 'rendement espéré', 'max dropdown']\n",
    "\n",
    "# Initialiser une liste pour stocker les résultats\n",
    "results = []\n",
    "\n",
    "# Boucle sur chaque période et chaque indicateur\n",
    "for label, min_date in periods.items():\n",
    "    for indicator in indicators:\n",
    "        value = get_stats(indicator, min_date, date.today())\n",
    "        results.append({\n",
    "            'Période': label,\n",
    "            'Indicateur': indicator,\n",
    "            'Valeur': value\n",
    "        })\n",
    "\n",
    "# Convertir les résultats en DataFrame\n",
    "df_results = pd.DataFrame(results)\n",
    "\n",
    "# Option : pivot pour avoir un tableau lisible\n",
    "df_pivot = df_results.pivot(index='Indicateur', columns='Période', values='Valeur')\n",
    "\n",
    "# Affichage\n",
    "print(df_pivot)\n",
    "\n",
    "# Export CSV (facultatif)\n",
    "# df_pivot.to_csv(\"indicateurs_performance.csv\", float_format=\"%.6f\")\n"
   ]
  },
  {
   "cell_type": "code",
   "execution_count": 121,
   "id": "018a4ed9",
   "metadata": {},
   "outputs": [
    {
     "data": {
      "text/html": [
       "<div>\n",
       "<style scoped>\n",
       "    .dataframe tbody tr th:only-of-type {\n",
       "        vertical-align: middle;\n",
       "    }\n",
       "\n",
       "    .dataframe tbody tr th {\n",
       "        vertical-align: top;\n",
       "    }\n",
       "\n",
       "    .dataframe thead th {\n",
       "        text-align: right;\n",
       "    }\n",
       "</style>\n",
       "<table border=\"1\" class=\"dataframe\">\n",
       "  <thead>\n",
       "    <tr style=\"text-align: right;\">\n",
       "      <th>Période</th>\n",
       "      <th>1Y</th>\n",
       "      <th>3M</th>\n",
       "      <th>3Y</th>\n",
       "      <th>6M</th>\n",
       "      <th>YTD</th>\n",
       "    </tr>\n",
       "    <tr>\n",
       "      <th>Indicateur</th>\n",
       "      <th></th>\n",
       "      <th></th>\n",
       "      <th></th>\n",
       "      <th></th>\n",
       "      <th></th>\n",
       "    </tr>\n",
       "  </thead>\n",
       "  <tbody>\n",
       "    <tr>\n",
       "      <th>max dropdown</th>\n",
       "      <td>-0.184254</td>\n",
       "      <td>-0.154523</td>\n",
       "      <td>-0.184254</td>\n",
       "      <td>-0.154523</td>\n",
       "      <td>-0.154523</td>\n",
       "    </tr>\n",
       "    <tr>\n",
       "      <th>performance</th>\n",
       "      <td>-0.080380</td>\n",
       "      <td>0.060614</td>\n",
       "      <td>-0.076982</td>\n",
       "      <td>0.052302</td>\n",
       "      <td>0.056321</td>\n",
       "    </tr>\n",
       "    <tr>\n",
       "      <th>rendement espéré</th>\n",
       "      <td>-0.084126</td>\n",
       "      <td>0.059862</td>\n",
       "      <td>-0.080422</td>\n",
       "      <td>0.051401</td>\n",
       "      <td>0.055340</td>\n",
       "    </tr>\n",
       "    <tr>\n",
       "      <th>vol</th>\n",
       "      <td>0.302145</td>\n",
       "      <td>0.249430</td>\n",
       "      <td>0.302437</td>\n",
       "      <td>0.328470</td>\n",
       "      <td>0.344292</td>\n",
       "    </tr>\n",
       "  </tbody>\n",
       "</table>\n",
       "</div>"
      ],
      "text/plain": [
       "Période                 1Y        3M        3Y        6M       YTD\n",
       "Indicateur                                                        \n",
       "max dropdown     -0.184254 -0.154523 -0.184254 -0.154523 -0.154523\n",
       "performance      -0.080380  0.060614 -0.076982  0.052302  0.056321\n",
       "rendement espéré -0.084126  0.059862 -0.080422  0.051401  0.055340\n",
       "vol               0.302145  0.249430  0.302437  0.328470  0.344292"
      ]
     },
     "execution_count": 121,
     "metadata": {},
     "output_type": "execute_result"
    }
   ],
   "source": [
    "df_pivot"
   ]
  },
  {
   "cell_type": "code",
   "execution_count": 116,
   "id": "19b75161",
   "metadata": {},
   "outputs": [
    {
     "data": {
      "text/plain": [
       "0.3021446469552309"
      ]
     },
     "execution_count": 116,
     "metadata": {},
     "output_type": "execute_result"
    }
   ],
   "source": [
    "one_years_ago=start - relativedelta(years=1)\n",
    "cond_inf=(df['date'].dt.date>one_years_ago)\n",
    "cond_sup=(df['date'].dt.date<date.today())\n",
    "get_stats('vol',one_years_ago,date.today())"
   ]
  },
  {
   "cell_type": "code",
   "execution_count": 117,
   "id": "33422838",
   "metadata": {},
   "outputs": [
    {
     "data": {
      "text/plain": [
       "-0.18425410206232115"
      ]
     },
     "execution_count": 117,
     "metadata": {},
     "output_type": "execute_result"
    }
   ],
   "source": [
    "get_stats('max dropdown',one_years_ago,date.today())"
   ]
  },
  {
   "cell_type": "code",
   "execution_count": 118,
   "id": "c6e00dae",
   "metadata": {},
   "outputs": [
    {
     "data": {
      "text/plain": [
       "-0.08412591830815108"
      ]
     },
     "execution_count": 118,
     "metadata": {},
     "output_type": "execute_result"
    }
   ],
   "source": [
    "get_stats('rendement espéré',one_years_ago,date.today())"
   ]
  },
  {
   "cell_type": "code",
   "execution_count": 119,
   "id": "6671dde8",
   "metadata": {},
   "outputs": [
    {
     "data": {
      "text/plain": [
       "-0.08037997807818786"
      ]
     },
     "execution_count": 119,
     "metadata": {},
     "output_type": "execute_result"
    }
   ],
   "source": [
    "get_stats('performance',one_years_ago,date.today())"
   ]
  },
  {
   "cell_type": "code",
   "execution_count": null,
   "id": "3e2763fd",
   "metadata": {},
   "outputs": [],
   "source": [
    "import numpy as np\n",
    "\n",
    "# Rendements simples quotidiens\n",
    "df['return'] = df['price'].pct_change()\n",
    "\n",
    "# Ou rendements log (plus courants en finance)\n",
    "df['log_return'] = np.log(df['price'] / df['price'].shift(1))\n"
   ]
  }
 ],
 "metadata": {
  "kernelspec": {
   "display_name": "Python 3",
   "language": "python",
   "name": "python3"
  },
  "language_info": {
   "codemirror_mode": {
    "name": "ipython",
    "version": 3
   },
   "file_extension": ".py",
   "mimetype": "text/x-python",
   "name": "python",
   "nbconvert_exporter": "python",
   "pygments_lexer": "ipython3",
   "version": "3.8.8"
  }
 },
 "nbformat": 4,
 "nbformat_minor": 5
}
